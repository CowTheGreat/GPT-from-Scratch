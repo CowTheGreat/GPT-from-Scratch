{
 "cells": [
  {
   "cell_type": "markdown",
   "id": "dc77c4fd",
   "metadata": {},
   "source": [
    "5.1.1 Using GPT to generate text"
   ]
  }
 ],
 "metadata": {
  "language_info": {
   "name": "python"
  }
 },
 "nbformat": 4,
 "nbformat_minor": 5
}
